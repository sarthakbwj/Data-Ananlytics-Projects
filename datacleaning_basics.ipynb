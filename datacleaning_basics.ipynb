{
 "cells": [
  {
   "cell_type": "code",
   "execution_count": 11,
   "metadata": {},
   "outputs": [
    {
     "name": "stdout",
     "output_type": "stream",
     "text": [
      "[4.5]\n"
     ]
    }
   ],
   "source": [
    "import numpy as np\n",
    "import pandas as pd\n",
    "\n",
    "# Decisions we make are based on the quality of data we have. \n",
    "\n",
    "# Median based anomaly detection \n",
    "x = pd.Series([2.3,2.1,4.5,2.5,2.4])\n",
    "median = np.median(x) # median is 2.4\n",
    "threshold = 2\n",
    "outliers = []\n",
    "\n",
    "for item in x:\n",
    "    if abs(item - median) > threshold:\n",
    "        outliers.append(item)\n",
    "\n",
    "print(outliers) "
   ]
  },
  {
   "cell_type": "code",
   "execution_count": 13,
   "metadata": {},
   "outputs": [
    {
     "data": {
      "text/plain": [
       "[4.5]"
      ]
     },
     "execution_count": 13,
     "metadata": {},
     "output_type": "execute_result"
    }
   ],
   "source": [
    "# Mean based anomaly detection \n",
    "\n",
    "x = pd.Series([2.3,2.1,4.5,2.5,2.4])\n",
    "mean = np.mean(x) # Mean = 2.7600\n",
    "std = np.std(x) # Standard Deviation = 0.88\n",
    "                # Mean - Std = 1.88\n",
    "                # Mean + Std = 3.64\n",
    "outliers = []\n",
    "for item in x:\n",
    "    if (item < mean - std) or (item > mean + std):\n",
    "        outliers.append(item)\n",
    "\n",
    "outliers\n"
   ]
  },
  {
   "cell_type": "code",
   "execution_count": null,
   "metadata": {},
   "outputs": [],
   "source": []
  }
 ],
 "metadata": {
  "kernelspec": {
   "display_name": "Python 3",
   "language": "python",
   "name": "python3"
  },
  "language_info": {
   "codemirror_mode": {
    "name": "ipython",
    "version": 3
   },
   "file_extension": ".py",
   "mimetype": "text/x-python",
   "name": "python",
   "nbconvert_exporter": "python",
   "pygments_lexer": "ipython3",
   "version": "3.12.1"
  }
 },
 "nbformat": 4,
 "nbformat_minor": 2
}
